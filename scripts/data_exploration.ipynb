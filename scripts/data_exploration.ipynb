{
 "cells": [
  {
   "cell_type": "code",
   "execution_count": 24,
   "metadata": {},
   "outputs": [
    {
     "data": {
      "text/html": [
       "<div>\n",
       "<style>\n",
       "    .dataframe thead tr:only-child th {\n",
       "        text-align: right;\n",
       "    }\n",
       "\n",
       "    .dataframe thead th {\n",
       "        text-align: left;\n",
       "    }\n",
       "\n",
       "    .dataframe tbody tr th {\n",
       "        vertical-align: top;\n",
       "    }\n",
       "</style>\n",
       "<table border=\"1\" class=\"dataframe\">\n",
       "  <thead>\n",
       "    <tr style=\"text-align: right;\">\n",
       "      <th></th>\n",
       "      <th>features</th>\n",
       "    </tr>\n",
       "  </thead>\n",
       "  <tbody>\n",
       "    <tr>\n",
       "      <th>0</th>\n",
       "      <td>{'type': 'Feature', 'id': '01', 'properties': ...</td>\n",
       "    </tr>\n",
       "    <tr>\n",
       "      <th>1</th>\n",
       "      <td>{'type': 'Feature', 'id': '02', 'properties': ...</td>\n",
       "    </tr>\n",
       "    <tr>\n",
       "      <th>10</th>\n",
       "      <td>{'type': 'Feature', 'id': '13', 'properties': ...</td>\n",
       "    </tr>\n",
       "    <tr>\n",
       "      <th>11</th>\n",
       "      <td>{'type': 'Feature', 'id': '15', 'properties': ...</td>\n",
       "    </tr>\n",
       "    <tr>\n",
       "      <th>12</th>\n",
       "      <td>{'type': 'Feature', 'id': '16', 'properties': ...</td>\n",
       "    </tr>\n",
       "  </tbody>\n",
       "</table>\n",
       "</div>"
      ],
      "text/plain": [
       "                                             features\n",
       "0   {'type': 'Feature', 'id': '01', 'properties': ...\n",
       "1   {'type': 'Feature', 'id': '02', 'properties': ...\n",
       "10  {'type': 'Feature', 'id': '13', 'properties': ...\n",
       "11  {'type': 'Feature', 'id': '15', 'properties': ...\n",
       "12  {'type': 'Feature', 'id': '16', 'properties': ..."
      ]
     },
     "execution_count": 24,
     "metadata": {},
     "output_type": "execute_result"
    }
   ],
   "source": [
    "import pandas as pd\n",
    "import numpy as np\n",
    "\n",
    "\n",
    "\n",
    "path = '../data/annual-coal-consumption-by-country-1980-2009-2.csv'\n",
    "countries = '../data/countries.csv'\n",
    "\n",
    "df = pd.read_json('../data/usDensity.json')\n",
    "#list(df.columns.values)\n",
    "# todo check if colnames contain \"country\" \n",
    "#df = df.rename(index=str, columns={\"Unnamed: 0\": \"country\"})\n",
    "#df.to_json('../data/annual-coal-consumption-by-country-1980-2009-2.json')\n",
    "#df=df.drop(['type'],axis=1)\n",
    "#df.to_json('../data/usDensity.json')\n",
    "df.head(5)\n"
   ]
  },
  {
   "cell_type": "code",
   "execution_count": 96,
   "metadata": {},
   "outputs": [],
   "source": [
    "d = df['features']\n",
    "n = len(d)\n",
    "\n",
    "states = []\n",
    "code = []\n",
    "densities = []\n",
    "for idx in range(n):\n",
    "    state = d[idx]['properties']['name']\n",
    "    states.append(state)\n",
    "    code.append(us_state_abbrev[state])\n",
    "    densities.append(d[idx]['properties']['density'])\n",
    "    \n",
    "usDensity = dict(zip(code, densities))\n"
   ]
  },
  {
   "cell_type": "code",
   "execution_count": 144,
   "metadata": {},
   "outputs": [
    {
     "data": {
      "text/plain": [
       "array([5., 0., 5., 5., 3., 6., 2., 3., 1., 3., 4., 3., 7., 3., 4., 5., 6.,\n",
       "       4., 4., 6., 2., 2., 4., 5., 5., 5., 0., 6., 6., 4., 1., 7., 3., 4.,\n",
       "       0., 3., 5., 6., 3., 1., 4., 5., 5., 5., 6., 5., 3., 4., 5., 4., 0.,\n",
       "       1.])"
      ]
     },
     "execution_count": 144,
     "metadata": {},
     "output_type": "execute_result"
    }
   ],
   "source": [
    "import numpy as np\n",
    "densities = np.asarray(densities)\n",
    "d = densities.copy()\n",
    "\n",
    "# !! have to split ranges from low to high.\n",
    "d[densities <= 10] = '0'\n",
    "d[densities > 10] = '7'\n",
    "d[densities > 20] = '6'\n",
    "d[densities > 50] = '5'\n",
    "d[densities > 100] = '4'\n",
    "d[densities > 200] = '3'\n",
    "d[densities > 500] = '2'\n",
    "d[densities > 1000] = '1'\n",
    "d"
   ]
  },
  {
   "cell_type": "code",
   "execution_count": 155,
   "metadata": {},
   "outputs": [
    {
     "name": "stdout",
     "output_type": "stream",
     "text": [
      "{\"AL\": {\"fillKey\": \"5\"}, \"AK\": {\"fillKey\": \"0\"}, \"AZ\": {\"fillKey\": \"5\"}, \"AR\": {\"fillKey\": \"5\"}, \"CA\": {\"fillKey\": \"3\"}, \"CO\": {\"fillKey\": \"6\"}, \"CT\": {\"fillKey\": \"2\"}, \"DE\": {\"fillKey\": \"3\"}, \"DC\": {\"fillKey\": \"1\"}, \"FL\": {\"fillKey\": \"3\"}, \"GA\": {\"fillKey\": \"4\"}, \"HI\": {\"fillKey\": \"3\"}, \"ID\": {\"fillKey\": \"7\"}, \"IL\": {\"fillKey\": \"3\"}, \"IN\": {\"fillKey\": \"4\"}, \"IA\": {\"fillKey\": \"5\"}, \"KS\": {\"fillKey\": \"6\"}, \"KY\": {\"fillKey\": \"4\"}, \"LA\": {\"fillKey\": \"4\"}, \"ME\": {\"fillKey\": \"6\"}, \"MD\": {\"fillKey\": \"2\"}, \"MA\": {\"fillKey\": \"2\"}, \"MI\": {\"fillKey\": \"4\"}, \"MN\": {\"fillKey\": \"5\"}, \"MS\": {\"fillKey\": \"5\"}, \"MO\": {\"fillKey\": \"5\"}, \"MT\": {\"fillKey\": \"0\"}, \"NE\": {\"fillKey\": \"6\"}, \"NV\": {\"fillKey\": \"6\"}, \"NH\": {\"fillKey\": \"4\"}, \"NJ\": {\"fillKey\": \"1\"}, \"NM\": {\"fillKey\": \"7\"}, \"NY\": {\"fillKey\": \"3\"}, \"NC\": {\"fillKey\": \"4\"}, \"ND\": {\"fillKey\": \"0\"}, \"OH\": {\"fillKey\": \"3\"}, \"OK\": {\"fillKey\": \"5\"}, \"OR\": {\"fillKey\": \"6\"}, \"PA\": {\"fillKey\": \"3\"}, \"RI\": {\"fillKey\": \"1\"}, \"SC\": {\"fillKey\": \"4\"}, \"SD\": {\"fillKey\": \"5\"}, \"TN\": {\"fillKey\": \"5\"}, \"TX\": {\"fillKey\": \"5\"}, \"UT\": {\"fillKey\": \"6\"}, \"VT\": {\"fillKey\": \"5\"}, \"VA\": {\"fillKey\": \"3\"}, \"WA\": {\"fillKey\": \"4\"}, \"WV\": {\"fillKey\": \"5\"}, \"WI\": {\"fillKey\": \"4\"}, \"WY\": {\"fillKey\": \"0\"}, \"PR\": {\"fillKey\": \"1\"}}\n"
     ]
    }
   ],
   "source": [
    "import json\n",
    "\n",
    "\n",
    "def create_json(states, code, den):\n",
    "    dic = {}\n",
    "    for idx in range(n):\n",
    "        dic[code[idx]] = {}\n",
    "        dic[code[idx]]['fillKey'] = str(int(d[idx]))\n",
    "\n",
    "    print(json.dumps(dic))\n",
    "    \n",
    "    with open('../data/code-usDensity.json', 'w') as fp:\n",
    "        json.dump(dic, fp)\n",
    "    return dic\n",
    "\n",
    "#print(create_json(states,code,densities))\n",
    "j = create_json(states,code,densities)\n",
    "\n"
   ]
  },
  {
   "cell_type": "code",
   "execution_count": 152,
   "metadata": {},
   "outputs": [
    {
     "name": "stdout",
     "output_type": "stream",
     "text": [
      "{\"birds\": {\"eagle\": 0}, \"cats\": {\"panther\": 1}}\n"
     ]
    }
   ],
   "source": [
    "creatures = dict()\n",
    "creatures['birds'] = dict()\n",
    "creatures['birds']['eagle'] = 0\n",
    "\n",
    "creatures['cats'] = dict()\n",
    "creatures['cats']['panther'] = 1\n",
    "\n",
    "print(json.dumps(creatures))"
   ]
  },
  {
   "cell_type": "code",
   "execution_count": null,
   "metadata": {},
   "outputs": [],
   "source": []
  },
  {
   "cell_type": "code",
   "execution_count": 61,
   "metadata": {},
   "outputs": [],
   "source": [
    "#https://gist.github.com/rogerallen/1583593\n",
    "    \n",
    "    us_state_abbrev = {\n",
    "    'Alabama': 'AL',\n",
    "    'Alaska': 'AK',\n",
    "    'Arizona': 'AZ',\n",
    "    'Arkansas': 'AR',\n",
    "    'California': 'CA',\n",
    "    'Colorado': 'CO',\n",
    "    'Connecticut': 'CT',\n",
    "    'Delaware': 'DE',\n",
    "    'Florida': 'FL',\n",
    "    'Georgia': 'GA',\n",
    "    'Hawaii': 'HI',\n",
    "    'Idaho': 'ID',\n",
    "    'Illinois': 'IL',\n",
    "    'Indiana': 'IN',\n",
    "    'Iowa': 'IA',\n",
    "    'Kansas': 'KS',\n",
    "    'Kentucky': 'KY',\n",
    "    'Louisiana': 'LA',\n",
    "    'Maine': 'ME',\n",
    "    'Maryland': 'MD',\n",
    "    'Massachusetts': 'MA',\n",
    "    'Michigan': 'MI',\n",
    "    'Minnesota': 'MN',\n",
    "    'Mississippi': 'MS',\n",
    "    'Missouri': 'MO',\n",
    "    'Montana': 'MT',\n",
    "    'Nebraska': 'NE',\n",
    "    'Nevada': 'NV',\n",
    "    'New Hampshire': 'NH',\n",
    "    'New Jersey': 'NJ',\n",
    "    'New Mexico': 'NM',\n",
    "    'New York': 'NY',\n",
    "    'North Carolina': 'NC',\n",
    "    'North Dakota': 'ND',\n",
    "    'Ohio': 'OH',\n",
    "    'Oklahoma': 'OK',\n",
    "    'Oregon': 'OR',\n",
    "    'Pennsylvania': 'PA',\n",
    "    'Rhode Island': 'RI',\n",
    "    'South Carolina': 'SC',\n",
    "    'South Dakota': 'SD',\n",
    "    'Tennessee': 'TN',\n",
    "    'Texas': 'TX',\n",
    "    'Utah': 'UT',\n",
    "    'Vermont': 'VT',\n",
    "    'Virginia': 'VA',\n",
    "    'Washington': 'WA',\n",
    "    'West Virginia': 'WV',\n",
    "    'Wisconsin': 'WI',\n",
    "    'Wyoming': 'WY',\n",
    "    'District of Columbia': 'DC',\n",
    "    'Puerto Rico': 'PR'\n",
    "}"
   ]
  },
  {
   "cell_type": "code",
   "execution_count": null,
   "metadata": {},
   "outputs": [],
   "source": []
  },
  {
   "cell_type": "code",
   "execution_count": null,
   "metadata": {},
   "outputs": [],
   "source": []
  },
  {
   "cell_type": "code",
   "execution_count": null,
   "metadata": {},
   "outputs": [],
   "source": []
  }
 ],
 "metadata": {
  "kernelspec": {
   "display_name": "Python 3",
   "language": "python",
   "name": "python3"
  },
  "language_info": {
   "codemirror_mode": {
    "name": "ipython",
    "version": 3
   },
   "file_extension": ".py",
   "mimetype": "text/x-python",
   "name": "python",
   "nbconvert_exporter": "python",
   "pygments_lexer": "ipython3",
   "version": "3.6.5"
  }
 },
 "nbformat": 4,
 "nbformat_minor": 2
}
