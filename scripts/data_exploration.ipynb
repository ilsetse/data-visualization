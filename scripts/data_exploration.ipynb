{
 "cells": [
  {
   "cell_type": "code",
   "execution_count": 2,
   "metadata": {},
   "outputs": [],
   "source": [
    "import pandas as pd\n",
    "import numpy as np\n",
    "\n",
    "\n",
    "\n",
    "df = pd.read_json('../data/usDensity.json')\n",
    "#list(df.columns.values)\n",
    "# todo check if colnames contain \"country\" \n",
    "#df = df.rename(index=str, columns={\"Unnamed: 0\": \"country\"})\n",
    "#df.to_json('../data/annual-coal-consumption-by-country-1980-2009-2.json')\n",
    "#df=df.drop(['type'],axis=1)\n",
    "#df.to_json('../data/usDensity.json')\n",
    "\n",
    "\n",
    "df.head(5)\n",
    "\n",
    "#https://gist.github.com/rogerallen/1583593\n",
    "    \n",
    "us_state_abbrev = {\n",
    "    'Alabama': 'AL',\n",
    "    'Alaska': 'AK',\n",
    "    'Arizona': 'AZ',\n",
    "    'Arkansas': 'AR',\n",
    "    'California': 'CA',\n",
    "    'Colorado': 'CO',\n",
    "    'Connecticut': 'CT',\n",
    "    'Delaware': 'DE',\n",
    "    'Florida': 'FL',\n",
    "    'Georgia': 'GA',\n",
    "    'Hawaii': 'HI',\n",
    "    'Idaho': 'ID',\n",
    "    'Illinois': 'IL',\n",
    "    'Indiana': 'IN',\n",
    "    'Iowa': 'IA',\n",
    "    'Kansas': 'KS',\n",
    "    'Kentucky': 'KY',\n",
    "    'Louisiana': 'LA',\n",
    "    'Maine': 'ME',\n",
    "    'Maryland': 'MD',\n",
    "    'Massachusetts': 'MA',\n",
    "    'Michigan': 'MI',\n",
    "    'Minnesota': 'MN',\n",
    "    'Mississippi': 'MS',\n",
    "    'Missouri': 'MO',\n",
    "    'Montana': 'MT',\n",
    "    'Nebraska': 'NE',\n",
    "    'Nevada': 'NV',\n",
    "    'New Hampshire': 'NH',\n",
    "    'New Jersey': 'NJ',\n",
    "    'New Mexico': 'NM',\n",
    "    'New York': 'NY',\n",
    "    'North Carolina': 'NC',\n",
    "    'North Dakota': 'ND',\n",
    "    'Ohio': 'OH',\n",
    "    'Oklahoma': 'OK',\n",
    "    'Oregon': 'OR',\n",
    "    'Pennsylvania': 'PA',\n",
    "    'Rhode Island': 'RI',\n",
    "    'South Carolina': 'SC',\n",
    "    'South Dakota': 'SD',\n",
    "    'Tennessee': 'TN',\n",
    "    'Texas': 'TX',\n",
    "    'Utah': 'UT',\n",
    "    'Vermont': 'VT',\n",
    "    'Virginia': 'VA',\n",
    "    'Washington': 'WA',\n",
    "    'West Virginia': 'WV',\n",
    "    'Wisconsin': 'WI',\n",
    "    'Wyoming': 'WY',\n",
    "    'District of Columbia': 'DC',\n",
    "    'Puerto Rico': 'PR'\n",
    "}"
   ]
  },
  {
   "cell_type": "code",
   "execution_count": 3,
   "metadata": {},
   "outputs": [],
   "source": [
    "d = df['features']\n",
    "n = len(d)\n",
    "\n",
    "states = []\n",
    "code = []\n",
    "densities = []\n",
    "for idx in range(n):\n",
    "    state = d[idx]['properties']['name']\n",
    "    states.append(state)\n",
    "    code.append(us_state_abbrev[state])\n",
    "    densities.append(d[idx]['properties']['density'])\n",
    "    \n",
    "usDensity = dict(zip(code, densities))\n"
   ]
  },
  {
   "cell_type": "code",
   "execution_count": 4,
   "metadata": {},
   "outputs": [
    {
     "data": {
      "text/plain": [
       "array([5., 0., 5., 5., 3., 6., 2., 3., 1., 3., 4., 3., 7., 3., 4., 5., 6.,\n",
       "       4., 4., 6., 2., 2., 4., 5., 5., 5., 0., 6., 6., 4., 1., 7., 3., 4.,\n",
       "       0., 3., 5., 6., 3., 1., 4., 5., 5., 5., 6., 5., 3., 4., 5., 4., 0.,\n",
       "       1.])"
      ]
     },
     "execution_count": 4,
     "metadata": {},
     "output_type": "execute_result"
    }
   ],
   "source": [
    "import numpy as np\n",
    "densities = np.asarray(densities)\n",
    "d = densities.copy()\n",
    "\n",
    "# !! have to split ranges from low to high.\n",
    "d[densities <= 10] = '0'\n",
    "d[densities > 10] = '7'\n",
    "d[densities > 20] = '6'\n",
    "d[densities > 50] = '5'\n",
    "d[densities > 100] = '4'\n",
    "d[densities > 200] = '3'\n",
    "d[densities > 500] = '2'\n",
    "d[densities > 1000] = '1'\n",
    "d"
   ]
  },
  {
   "cell_type": "code",
   "execution_count": 28,
   "metadata": {},
   "outputs": [
    {
     "name": "stdout",
     "output_type": "stream",
     "text": [
      "[{'map': 'usaLow'}, {'areas': [{'id': 'US-AL', 'value': 94.65}, {'id': 'US-AK', 'value': 1.264}, {'id': 'US-AZ', 'value': 57.05}, {'id': 'US-AR', 'value': 56.43}, {'id': 'US-CA', 'value': 241.7}, {'id': 'US-CO', 'value': 49.33}, {'id': 'US-CT', 'value': 739.1}, {'id': 'US-DE', 'value': 464.3}, {'id': 'US-DC', 'value': 10065.0}, {'id': 'US-FL', 'value': 353.4}, {'id': 'US-GA', 'value': 169.5}, {'id': 'US-HI', 'value': 214.1}, {'id': 'US-ID', 'value': 19.15}, {'id': 'US-IL', 'value': 231.5}, {'id': 'US-IN', 'value': 181.7}, {'id': 'US-IA', 'value': 54.81}, {'id': 'US-KS', 'value': 35.09}, {'id': 'US-KY', 'value': 110.0}, {'id': 'US-LA', 'value': 105.0}, {'id': 'US-ME', 'value': 43.04}, {'id': 'US-MD', 'value': 596.3}, {'id': 'US-MA', 'value': 840.2}, {'id': 'US-MI', 'value': 173.9}, {'id': 'US-MN', 'value': 67.14}, {'id': 'US-MS', 'value': 63.5}, {'id': 'US-MO', 'value': 87.26}, {'id': 'US-MT', 'value': 6.858}, {'id': 'US-NE', 'value': 23.97}, {'id': 'US-NV', 'value': 24.8}, {'id': 'US-NH', 'value': 147.0}, {'id': 'US-NJ', 'value': 1189.0}, {'id': 'US-NM', 'value': 17.16}, {'id': 'US-NY', 'value': 412.3}, {'id': 'US-NC', 'value': 198.2}, {'id': 'US-ND', 'value': 9.916}, {'id': 'US-OH', 'value': 281.9}, {'id': 'US-OK', 'value': 55.22}, {'id': 'US-OR', 'value': 40.33}, {'id': 'US-PA', 'value': 284.3}, {'id': 'US-RI', 'value': 1006.0}, {'id': 'US-SC', 'value': 155.4}, {'id': 'US-SD', 'value': 98.07}, {'id': 'US-TN', 'value': 88.08}, {'id': 'US-TX', 'value': 98.07}, {'id': 'US-UT', 'value': 34.3}, {'id': 'US-VT', 'value': 67.73}, {'id': 'US-VA', 'value': 204.5}, {'id': 'US-WA', 'value': 102.6}, {'id': 'US-WV', 'value': 77.06}, {'id': 'US-WI', 'value': 105.2}, {'id': 'US-WY', 'value': 5.851}, {'id': 'US-PR', 'value': 1082.0}]}]\n"
     ]
    }
   ],
   "source": [
    "import json\n",
    "\n",
    "\n",
    "def create_nested_json(states, code, den):\n",
    "    dic = {}\n",
    "    for idx in range(n):\n",
    "        dic[code[idx]] = {}\n",
    "        dic[code[idx]]['fillKey'] = str(int(d[idx]))\n",
    "\n",
    "    #print(json.dumps(dic))\n",
    "    \n",
    "    with open('../data/datamaps-usDensity.json', 'w') as fp:\n",
    "        json.dump(dic, fp)\n",
    "    return dic\n",
    "\n",
    "#print(create_json(states,code,densities))\n",
    "j = create_nested_json(states,code,densities)\n",
    "\n",
    "\n",
    "\n",
    "\n",
    "def create_json(states, code, den):\n",
    "    \n",
    "    \n",
    "    LIST = []\n",
    "    for idx in range(n):\n",
    "        dic = {}\n",
    "        dic['id'] = \"US-\"+code[idx]\n",
    "        dic['value'] = float(den[idx])\n",
    "        LIST.append(dic)\n",
    "    #print(json.dumps(LIST))\n",
    "    #print(LIST)\n",
    "    \n",
    "    DIC = [{\"map\": \"usaLow\"},{\"areas\": LIST}]\n",
    "    print(DIC)\n",
    "    \n",
    "    \n",
    "    with open('../data/amcharts-usDensity.json', 'w') as fp:\n",
    "        json.dump(DIC, fp)\n",
    "    return dic\n",
    "\n",
    "#print(create_json(states,code,densities))\n",
    "j = create_json(states,code,densities)\n",
    "\n",
    "\n"
   ]
  },
  {
   "cell_type": "code",
   "execution_count": 152,
   "metadata": {},
   "outputs": [
    {
     "name": "stdout",
     "output_type": "stream",
     "text": [
      "{\"birds\": {\"eagle\": 0}, \"cats\": {\"panther\": 1}}\n"
     ]
    }
   ],
   "source": [
    "creatures = dict()\n",
    "creatures['birds'] = dict()\n",
    "creatures['birds']['eagle'] = 0\n",
    "\n",
    "creatures['cats'] = dict()\n",
    "creatures['cats']['panther'] = 1\n",
    "\n",
    "print(json.dumps(creatures))"
   ]
  },
  {
   "cell_type": "code",
   "execution_count": null,
   "metadata": {},
   "outputs": [],
   "source": []
  },
  {
   "cell_type": "code",
   "execution_count": 4,
   "metadata": {},
   "outputs": [],
   "source": []
  },
  {
   "cell_type": "code",
   "execution_count": null,
   "metadata": {},
   "outputs": [],
   "source": []
  },
  {
   "cell_type": "code",
   "execution_count": null,
   "metadata": {},
   "outputs": [],
   "source": []
  },
  {
   "cell_type": "code",
   "execution_count": null,
   "metadata": {},
   "outputs": [],
   "source": []
  }
 ],
 "metadata": {
  "kernelspec": {
   "display_name": "Python 3",
   "language": "python",
   "name": "python3"
  },
  "language_info": {
   "codemirror_mode": {
    "name": "ipython",
    "version": 3
   },
   "file_extension": ".py",
   "mimetype": "text/x-python",
   "name": "python",
   "nbconvert_exporter": "python",
   "pygments_lexer": "ipython3",
   "version": "3.6.5"
  }
 },
 "nbformat": 4,
 "nbformat_minor": 2
}
